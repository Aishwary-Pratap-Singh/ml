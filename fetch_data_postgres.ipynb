{
 "cells": [
  {
   "cell_type": "code",
   "execution_count": 1,
   "id": "221aa633",
   "metadata": {},
   "outputs": [],
   "source": [
    "import psycopg2"
   ]
  },
  {
   "cell_type": "code",
   "execution_count": 4,
   "id": "19525925",
   "metadata": {},
   "outputs": [],
   "source": [
    "import pandas as pd"
   ]
  },
  {
   "cell_type": "code",
   "execution_count": 2,
   "id": "ab1e45e3",
   "metadata": {},
   "outputs": [],
   "source": [
    "# IMPORT DATA FROM DB- survey(postgres)\n",
    "\n",
    "def fetch_data():\n",
    "    conn = psycopg2.connect(\n",
    "        database=\"survey\", user='postgres', password='Password@123', host='127.0.0.1', port='5432'\n",
    "    )\n",
    "\n",
    "    conn.autocommit = True\n",
    "    cursor = conn.cursor()\n",
    "\n",
    "    sql1 = '''select * from data;'''\n",
    "    cursor.execute(sql1)\n",
    "\n",
    "    df = pd.read_sql_query('select * from \"data\"', con=conn)\n",
    "    print(df)\n",
    "    conn.close()\n",
    "    "
   ]
  },
  {
   "cell_type": "code",
   "execution_count": 5,
   "id": "341954e6",
   "metadata": {},
   "outputs": [
    {
     "name": "stdout",
     "output_type": "stream",
     "text": [
      "    ID    can say few words what went well in java Track?  \\\n",
      "0    1                             Mentor was so helpful    \n",
      "1    2  Assignment helped in good Hands on , helped ap...   \n",
      "2    3  This was my first time working on back-end . I...   \n",
      "3    4  Learned many new things, resolved many problem...   \n",
      "4    5                                 got to learn a log   \n",
      "..  ..                                                ...   \n",
      "74  74  Learned many new things, theoretically as well...   \n",
      "75  75                  Basic understanding of Springboot   \n",
      "76  76  learned how to implement api and create differ...   \n",
      "77  77                        i learned lot in short time   \n",
      "78  79  We learnt a lot about Spring Boot and Java Cor...   \n",
      "\n",
      "   can you few words about your mentor and track lead ?  \\\n",
      "0                       Good knowledge of technology      \n",
      "1   Track Mentor - Shashank was very helpful, repl...     \n",
      "2   Mentor was very helpful solved my every doubt ...     \n",
      "3   My mentor and track lead were very helpful, th...     \n",
      "4                                        very helpful     \n",
      "..                                                ...     \n",
      "74  Mentor was really amazing. He was ready to hel...     \n",
      "75  Very supportive mentor, instant resolution for...     \n",
      "76  My mentor was very helpfull , he assisted me w...     \n",
      "77  our mentor has been very helpful and encouragi...     \n",
      "78  Mentor was so cooperative and approachable thr...     \n",
      "\n",
      "                        How easy was your assignment?  \n",
      "0                                           Went well  \n",
      "1   It was moderate level some things were easy wh...  \n",
      "2   It was not easy for me.\\nI was not able to do ...  \n",
      "3            Assignment was Good and I learned a lot.  \n",
      "4                                 not easy but medium  \n",
      "..                                                ...  \n",
      "74  It was bit of difficult. I struggled a lot at ...  \n",
      "75                                            average  \n",
      "76  for me it was not easy though going through th...  \n",
      "77  It was difficult for me as my programming jour...  \n",
      "78  Assignment given was of moderate difficulty le...  \n",
      "\n",
      "[79 rows x 4 columns]\n"
     ]
    },
    {
     "name": "stderr",
     "output_type": "stream",
     "text": [
      "/tmp/ipykernel_2703400/947842927.py:14: UserWarning: pandas only supports SQLAlchemy connectable (engine/connection) or database string URI or sqlite3 DBAPI2 connection. Other DBAPI2 objects are not tested. Please consider using SQLAlchemy.\n",
      "  df = pd.read_sql_query('select * from \"data\"', con=conn)\n"
     ]
    }
   ],
   "source": [
    "fetch_data()"
   ]
  },
  {
   "cell_type": "code",
   "execution_count": null,
   "id": "34ffbe82",
   "metadata": {},
   "outputs": [],
   "source": []
  }
 ],
 "metadata": {
  "kernelspec": {
   "display_name": "Python 3 (ipykernel)",
   "language": "python",
   "name": "python3"
  },
  "language_info": {
   "codemirror_mode": {
    "name": "ipython",
    "version": 3
   },
   "file_extension": ".py",
   "mimetype": "text/x-python",
   "name": "python",
   "nbconvert_exporter": "python",
   "pygments_lexer": "ipython3",
   "version": "3.8.10"
  }
 },
 "nbformat": 4,
 "nbformat_minor": 5
}
