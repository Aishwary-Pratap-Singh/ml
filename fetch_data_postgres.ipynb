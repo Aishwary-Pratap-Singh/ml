{
 "cells": [
  {
   "cell_type": "code",
   "execution_count": 1,
   "id": "dd426643",
   "metadata": {},
   "outputs": [],
   "source": [
    "import psycopg2"
   ]
  },
  {
   "cell_type": "code",
   "execution_count": 4,
   "id": "3b15b149",
   "metadata": {},
   "outputs": [],
   "source": [
    "import pandas as pd"
   ]
  },
  {
   "cell_type": "code",
   "execution_count": 6,
   "id": "88fc0265",
   "metadata": {},
   "outputs": [],
   "source": [
    "# IMPORT DATA FROM DB- survey(postgres)\n",
    "\n",
    "def fetch_data():\n",
    "    conn = psycopg2.connect(\n",
    "        database=\"survey\", user='postgres', password='Password@123', host='127.0.0.1', port='5432'\n",
    "    )\n",
    "\n",
    "    conn.autocommit = True\n",
    "    cursor = conn.cursor()\n",
    "\n",
    "    sql1 = '''select * from data;'''\n",
    "    cursor.execute(sql1)\n",
    "\n",
    "    df = pd.read_sql_query('select * from \"data\"', con=conn)\n",
    "#     print(df)\n",
    "    conn.close()\n",
    "    "
   ]
  },
  {
   "cell_type": "code",
   "execution_count": 7,
   "id": "b7dbbb98",
   "metadata": {},
   "outputs": [
    {
     "name": "stderr",
     "output_type": "stream",
     "text": [
      "/tmp/ipykernel_2703400/968800458.py:14: UserWarning: pandas only supports SQLAlchemy connectable (engine/connection) or database string URI or sqlite3 DBAPI2 connection. Other DBAPI2 objects are not tested. Please consider using SQLAlchemy.\n",
      "  df = pd.read_sql_query('select * from \"data\"', con=conn)\n"
     ]
    }
   ],
   "source": [
    "fetch_data()"
   ]
  },
  {
   "cell_type": "code",
   "execution_count": null,
   "id": "0fe4600d",
   "metadata": {},
   "outputs": [],
   "source": []
  }
 ],
 "metadata": {
  "kernelspec": {
   "display_name": "Python 3 (ipykernel)",
   "language": "python",
   "name": "python3"
  },
  "language_info": {
   "codemirror_mode": {
    "name": "ipython",
    "version": 3
   },
   "file_extension": ".py",
   "mimetype": "text/x-python",
   "name": "python",
   "nbconvert_exporter": "python",
   "pygments_lexer": "ipython3",
   "version": "3.8.10"
  }
 },
 "nbformat": 4,
 "nbformat_minor": 5
}
